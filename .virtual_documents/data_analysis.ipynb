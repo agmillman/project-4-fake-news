!pip install textblob


# Import necessary libraries
import pandas as pd
import numpy as np
import matplotlib.pyplot as plt
import seaborn as sns
from textblob import TextBlob


# Load cleaned dataset
df = pd.read_csv("liar_cleaned.csv")

# Display basic dataset info
print("Dataset Shape:", df.shape)
print("\nDataset Info:")
df.info()


# Summary statistics for numerical columns
print("\nSummary Statistics:")
print(df.describe())

# Distribution of labels
plt.figure(figsize=(6, 4))
sns.countplot(x=df['binary_label'])
plt.title("Distribution of Fake vs Real News")
plt.xticks(ticks=[0, 1], labels=["Fake", "Real"])
plt.xlabel("News Type")
plt.ylabel("Count")
plt.show()


# Most common subjects in fake vs real news
plt.figure(figsize=(12, 6))
sns.countplot(y=df['subject'], order=df['subject'].value_counts().index[:10], hue=df['binary_label'])
plt.title("Top 10 Subjects in Fake vs Real News")
plt.xlabel("Count")
plt.ylabel("Subject")
plt.legend(title="News Type", labels=["Fake", "Real"])
plt.show()


# Analyzing party affiliation trends
plt.figure(figsize=(10, 5))
sns.countplot(y=df['party_affiliation'], order=df['party_affiliation'].value_counts().index[:10], hue=df['binary_label'])
plt.title("Top 10 Party Affiliations in Fake vs Real News")
plt.xlabel("Count")
plt.ylabel("Party Affiliation")
plt.legend(title="News Type", labels=["Fake", "Real"])
plt.show()


# Sentiment Analysis on Statements
def get_sentiment(text):
    return TextBlob(text).sentiment.polarity

df['sentiment'] = df['statement'].apply(get_sentiment)


# Sentiment distribution by news type
plt.figure(figsize=(8, 5))
sns.boxplot(x=df['binary_label'], y=df['sentiment'])
plt.title("Sentiment Analysis of Statements")
plt.xticks(ticks=[0, 1], labels=["Fake", "Real"])
plt.xlabel("News Type")
plt.ylabel("Sentiment Polarity")
plt.show()


# Correlation analysis between numerical columns
plt.figure(figsize=(8, 6))
sns.heatmap(df[["barely_true_count", "false_count", "half_true_count", "mostly_true_count", "pants_on_fire_count", "binary_label"]].corr(), annot=True, cmap="coolwarm")
plt.title("Correlation Matrix")
plt.show()



