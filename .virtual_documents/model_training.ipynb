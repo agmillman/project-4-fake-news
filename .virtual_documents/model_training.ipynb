# Import necessary libraries
import pandas as pd
import numpy as np
import matplotlib.pyplot as plt
import seaborn as sns
from sklearn.feature_extraction.text import TfidfVectorizer
from sklearn.model_selection import train_test_split
from sklearn.naive_bayes import MultinomialNB
from sklearn.linear_model import LogisticRegression
from sklearn.ensemble import RandomForestClassifier
from sklearn.metrics import accuracy_score, classification_report, confusion_matrix
import joblib


# Load cleaned dataset
df = pd.read_csv("liar_cleaned.csv")
df.head()


# Define features (statements) and labels
texts = df["statement"]
labels = df["binary_label"]

# Convert text data into numerical format using TF-IDF Vectorization
vectorizer = TfidfVectorizer(stop_words='english', max_features=5000)
X = vectorizer.fit_transform(texts)
y = labels

# Split dataset into training (80%) and testing (20%)
X_train, X_test, y_train, y_test = train_test_split(X, y, test_size=0.2, random_state=42)

# Train three models: Naïve Bayes, Logistic Regression, and Random Forest
models = {
    "Naïve Bayes": MultinomialNB(),
    "Logistic Regression": LogisticRegression(max_iter=500),
    "Random Forest": RandomForestClassifier(n_estimators=100, random_state=42)
}


# Store results
model_results = {}

for name, model in models.items():
    print(f"Training {name}...")
    model.fit(X_train, y_train)
    y_pred = model.predict(X_test)
    acc = accuracy_score(y_test, y_pred)
    model_results[name] = acc
    print(f"{name} Accuracy: {acc:.4f}")
    print(classification_report(y_test, y_pred))
    print("\n")


# Select best model based on accuracy
best_model_name = max(model_results, key=model_results.get)
best_model = models[best_model_name]
print(f"Best Model: {best_model_name} with accuracy {model_results[best_model_name]:.4f}")


# Save the best model and vectorizer for future use
joblib.dump(best_model, "best_fake_news_model.pkl")
joblib.dump(vectorizer, "tfidf_vectorizer.pkl")


# Confusion Matrix Visualization
plt.figure(figsize=(6, 5))
sns.heatmap(confusion_matrix(y_test, best_model.predict(X_test)), annot=True, fmt='d', cmap='Blues')
plt.title(f"Confusion Matrix - {best_model_name}")
plt.xlabel("Predicted")
plt.ylabel("Actual")
plt.show()



