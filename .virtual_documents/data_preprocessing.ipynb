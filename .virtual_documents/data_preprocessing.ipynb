# Import necessary libraries
import pandas as pd
import numpy as np
import matplotlib.pyplot as plt
import seaborn as sns
from pathlib import Path


# Load the dataset
import pandas as pd
import numpy as np
import matplotlib.pyplot as plt
import seaborn as sns
from pathlib import Path

# Set display options for better visualization
pd.set_option('display.max_columns', None)
pd.set_option('display.width', 1000)

# Define data path
data_dir = Path("Data")
train_path = data_dir / "train.tsv"
test_path = data_dir / "test.tsv"
val_path = data_dir / "valid.tsv"

columns = ["id", "label", "statement", "subject", "speaker", "speaker_job", "state", "party_affiliation", "barely_true_count", "false_count", "half_true_count", "mostly_true_count", "pants_on_fire_count", "context"]

# Read the TSV files
df_train = pd.read_csv(train_path, sep='\t', header=None, names=columns)
df_test = pd.read_csv(test_path, sep='\t', header=None, names=columns)
df_val = pd.read_csv(val_path, sep='\t', header=None, names=columns)

# Combine datasets into one
df = pd.concat([df_train, df_test, df_val], ignore_index=True)

# Explore data structure
print("Dataset Shape:", df.shape)
df.head()


# Check for missing values
print("\nMissing Values:")
print(df.isnull().sum())


# Drop rows with missing statements (as statement is critical for NLP analysis)
df.dropna(subset=["statement"], inplace=True)


# Fill missing categorical values with 'Unknown'
categorical_columns = ["subject", "speaker", "speaker_job", "state", "party_affiliation", "context"]
for col in categorical_columns:
    df[col].fillna("Unknown", inplace=True)


# Convert labels to a simplified binary classification
label_map = {
    "true": 1, "mostly-true": 1, "half-true": 1,
    "barely-true": 0, "false": 0, "pants-fire": 0
}
df["binary_label"] = df["label"].map(label_map)


# Drop unnecessary columns (id is not useful for ML)
df.drop(columns=["id"], inplace=True)

# Remove duplicates
df.drop_duplicates(inplace=True)

# Summary of the cleaned dataset
print("\nCleaned Dataset Shape:", df.shape)
df.head()


# Save cleaned dataset
df.to_csv("liar_cleaned.csv", index=False)
print("\nCleaned data saved as liar_cleaned.csv")


# Quick visualization of label distribution
plt.figure(figsize=(6, 4))
sns.countplot(x=df['binary_label'])
plt.title("Distribution of Fake vs Real News")
plt.xticks(ticks=[0, 1], labels=["Fake", "Real"])
plt.xlabel("News Type")
plt.ylabel("Count")
plt.show()



