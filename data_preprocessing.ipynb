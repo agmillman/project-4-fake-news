{
 "cells": [
  {
   "cell_type": "code",
   "execution_count": 1,
   "metadata": {},
   "outputs": [],
   "source": [
    "# Import necessary libraries\n",
    "import pandas as pd\n",
    "import numpy as np\n",
    "import matplotlib.pyplot as plt\n",
    "import seaborn as sns\n",
    "from pathlib import Path"
   ]
  },
  {
   "cell_type": "code",
   "execution_count": 30,
   "metadata": {},
   "outputs": [
    {
     "name": "stdout",
     "output_type": "stream",
     "text": [
      "Dataset Shape: (48960, 5)\n"
     ]
    },
    {
     "data": {
      "text/html": [
       "<div>\n",
       "<style scoped>\n",
       "    .dataframe tbody tr th:only-of-type {\n",
       "        vertical-align: middle;\n",
       "    }\n",
       "\n",
       "    .dataframe tbody tr th {\n",
       "        vertical-align: top;\n",
       "    }\n",
       "\n",
       "    .dataframe thead th {\n",
       "        text-align: right;\n",
       "    }\n",
       "</style>\n",
       "<table border=\"1\" class=\"dataframe\">\n",
       "  <thead>\n",
       "    <tr style=\"text-align: right;\">\n",
       "      <th></th>\n",
       "      <th>title</th>\n",
       "      <th>text</th>\n",
       "      <th>subject</th>\n",
       "      <th>date</th>\n",
       "      <th>real</th>\n",
       "    </tr>\n",
       "  </thead>\n",
       "  <tbody>\n",
       "    <tr>\n",
       "      <th>1</th>\n",
       "      <td>Donald Trump Sends Out Embarrassing New Yearâ...</td>\n",
       "      <td>Donald Trump just couldn t wish all Americans ...</td>\n",
       "      <td>News</td>\n",
       "      <td>12/31/2017</td>\n",
       "      <td>0</td>\n",
       "    </tr>\n",
       "    <tr>\n",
       "      <th>2</th>\n",
       "      <td>Drunk Bragging Trump Staffer Started Russian ...</td>\n",
       "      <td>House Intelligence Committee Chairman Devin Nu...</td>\n",
       "      <td>News</td>\n",
       "      <td>12/31/2017</td>\n",
       "      <td>0</td>\n",
       "    </tr>\n",
       "    <tr>\n",
       "      <th>3</th>\n",
       "      <td>Sheriff David Clarke Becomes An Internet Joke...</td>\n",
       "      <td>On Friday, it was revealed that former Milwauk...</td>\n",
       "      <td>News</td>\n",
       "      <td>12/30/2017</td>\n",
       "      <td>0</td>\n",
       "    </tr>\n",
       "    <tr>\n",
       "      <th>4</th>\n",
       "      <td>Trump Is So Obsessed He Even Has Obamaâ€™s Na...</td>\n",
       "      <td>On Christmas day, Donald Trump announced that ...</td>\n",
       "      <td>News</td>\n",
       "      <td>12/29/2017</td>\n",
       "      <td>0</td>\n",
       "    </tr>\n",
       "    <tr>\n",
       "      <th>5</th>\n",
       "      <td>Pope Francis Just Called Out Donald Trump Dur...</td>\n",
       "      <td>Pope Francis used his annual Christmas Day mes...</td>\n",
       "      <td>News</td>\n",
       "      <td>12/25/2017</td>\n",
       "      <td>0</td>\n",
       "    </tr>\n",
       "    <tr>\n",
       "      <th>6</th>\n",
       "      <td>KKK Just Threatened An 84-Year-Old Woman Who ...</td>\n",
       "      <td>An elderly Massachussetts woman who wrote a le...</td>\n",
       "      <td>News</td>\n",
       "      <td>3/18/2016</td>\n",
       "      <td>0</td>\n",
       "    </tr>\n",
       "    <tr>\n",
       "      <th>7</th>\n",
       "      <td>Racist Alabama Cops Brutalize Black Boy While...</td>\n",
       "      <td>The number of cases of cops brutalizing and ki...</td>\n",
       "      <td>News</td>\n",
       "      <td>12/25/2017</td>\n",
       "      <td>0</td>\n",
       "    </tr>\n",
       "    <tr>\n",
       "      <th>8</th>\n",
       "      <td>Fresh Off The Golf Course, Trump Lashes Out A...</td>\n",
       "      <td>Donald Trump spent a good portion of his day a...</td>\n",
       "      <td>News</td>\n",
       "      <td>12/23/2017</td>\n",
       "      <td>0</td>\n",
       "    </tr>\n",
       "    <tr>\n",
       "      <th>9</th>\n",
       "      <td>Trump Said Some INSANELY Racist Stuff Inside ...</td>\n",
       "      <td>In the wake of yet another court decision that...</td>\n",
       "      <td>News</td>\n",
       "      <td>12/23/2017</td>\n",
       "      <td>0</td>\n",
       "    </tr>\n",
       "    <tr>\n",
       "      <th>10</th>\n",
       "      <td>Former CIA Director Slams Trump Over UN Bully...</td>\n",
       "      <td>Many people have raised the alarm regarding th...</td>\n",
       "      <td>News</td>\n",
       "      <td>12/22/2017</td>\n",
       "      <td>0</td>\n",
       "    </tr>\n",
       "  </tbody>\n",
       "</table>\n",
       "</div>"
      ],
      "text/plain": [
       "                                                title                                               text subject        date real\n",
       "1    Donald Trump Sends Out Embarrassing New Yearâ...  Donald Trump just couldn t wish all Americans ...    News  12/31/2017    0\n",
       "2    Drunk Bragging Trump Staffer Started Russian ...  House Intelligence Committee Chairman Devin Nu...    News  12/31/2017    0\n",
       "3    Sheriff David Clarke Becomes An Internet Joke...  On Friday, it was revealed that former Milwauk...    News  12/30/2017    0\n",
       "4    Trump Is So Obsessed He Even Has Obamaâ€™s Na...  On Christmas day, Donald Trump announced that ...    News  12/29/2017    0\n",
       "5    Pope Francis Just Called Out Donald Trump Dur...  Pope Francis used his annual Christmas Day mes...    News  12/25/2017    0\n",
       "6    KKK Just Threatened An 84-Year-Old Woman Who ...  An elderly Massachussetts woman who wrote a le...    News   3/18/2016    0\n",
       "7    Racist Alabama Cops Brutalize Black Boy While...  The number of cases of cops brutalizing and ki...    News  12/25/2017    0\n",
       "8    Fresh Off The Golf Course, Trump Lashes Out A...  Donald Trump spent a good portion of his day a...    News  12/23/2017    0\n",
       "9    Trump Said Some INSANELY Racist Stuff Inside ...  In the wake of yet another court decision that...    News  12/23/2017    0\n",
       "10   Former CIA Director Slams Trump Over UN Bully...  Many people have raised the alarm regarding th...    News  12/22/2017    0"
      ]
     },
     "execution_count": 30,
     "metadata": {},
     "output_type": "execute_result"
    }
   ],
   "source": [
    "# Load the dataset\n",
    "import pandas as pd\n",
    "import numpy as np\n",
    "import matplotlib.pyplot as plt\n",
    "import seaborn as sns\n",
    "from pathlib import Path\n",
    "\n",
    "# Set display options for better visualization\n",
    "pd.set_option('display.max_columns', None)\n",
    "pd.set_option('display.width', 1000)\n",
    "\n",
    "# Define data path\n",
    "data_dir = Path(\"Data\")\n",
    "fake_data_1_path = data_dir / \"fake_data_1.csv\"\n",
    "fake_data_2_path = data_dir / \"fake_data_2.csv\"\n",
    "fake_data_3_path = data_dir / \"fake_data_3.csv\"\n",
    "fake_data_4_path = data_dir / \"fake_data_4.csv\"\n",
    "\n",
    "real_data_1_path = data_dir / \"real_data_1.csv\"\n",
    "real_data_2_path = data_dir / \"real_data_2.csv\"\n",
    "real_data_3_path = data_dir / \"real_data_3.csv\"\n",
    "real_data_4_path = data_dir / \"real_data_4.csv\"\n",
    "\n",
    "columns = [\"title\", \"text\", \"subject\", \"date\", \"real\"]\n",
    "\n",
    "# Read the CSV files\n",
    "df_train_1 = pd.read_csv(fake_data_1_path, header=None, names=columns)\n",
    "df_train_2 = pd.read_csv(fake_data_2_path, header=None, names=columns)\n",
    "df_train_3 = pd.read_csv(fake_data_3_path, header=None, names=columns)\n",
    "df_train_4 = pd.read_csv(fake_data_4_path, header=None, names=columns)\n",
    "\n",
    "df_train_5 = pd.read_csv(real_data_1_path, header=None, names=columns)\n",
    "df_train_6 = pd.read_csv(real_data_2_path, header=None, names=columns)\n",
    "df_train_7 = pd.read_csv(real_data_3_path, header=None, names=columns)\n",
    "df_train_8 = pd.read_csv(real_data_4_path, header=None, names=columns)\n",
    "\n",
    "# Combine datasets into one\n",
    "df = pd.concat([df_train_1, df_train_2, df_train_3, df_train_4, df_train_4, df_train_5, df_train_6, df_train_7, df_train_8], ignore_index=True)\n",
    "df = df[df['title'] != \"title\"]\n",
    "\n",
    "# Explore data structure\n",
    "print(\"Dataset Shape:\", df.shape)\n",
    "df.head(10)"
   ]
  },
  {
   "cell_type": "code",
   "execution_count": 31,
   "metadata": {},
   "outputs": [
    {
     "name": "stdout",
     "output_type": "stream",
     "text": [
      "\n",
      "Missing Values:\n",
      "title      0\n",
      "text       0\n",
      "subject    0\n",
      "date       0\n",
      "real       0\n",
      "dtype: int64\n"
     ]
    }
   ],
   "source": [
    "# Check for missing values\n",
    "print(\"\\nMissing Values:\")\n",
    "print(df.isnull().sum())"
   ]
  },
  {
   "cell_type": "code",
   "execution_count": 32,
   "metadata": {},
   "outputs": [],
   "source": [
    "# Drop rows with missing statements (as statement is critical for NLP analysis)\n",
    "df.dropna(subset=[\"text\"], inplace=True)"
   ]
  },
  {
   "cell_type": "code",
   "execution_count": 33,
   "metadata": {},
   "outputs": [
    {
     "name": "stderr",
     "output_type": "stream",
     "text": [
      "/var/folders/sy/0blmjqvn66q9pd453v1y2zdh0000gn/T/ipykernel_42429/297880609.py:4: FutureWarning: A value is trying to be set on a copy of a DataFrame or Series through chained assignment using an inplace method.\n",
      "The behavior will change in pandas 3.0. This inplace method will never work because the intermediate object on which we are setting values always behaves as a copy.\n",
      "\n",
      "For example, when doing 'df[col].method(value, inplace=True)', try using 'df.method({col: value}, inplace=True)' or df[col] = df[col].method(value) instead, to perform the operation inplace on the original object.\n",
      "\n",
      "\n",
      "  df[col].fillna(\"Unknown\", inplace=True)\n"
     ]
    }
   ],
   "source": [
    "# Fill missing categorical values with 'Unknown'\n",
    "categorical_columns = [\"title\", \"text\", \"subject\"]\n",
    "for col in categorical_columns:\n",
    "    df[col].fillna(\"Unknown\", inplace=True)"
   ]
  },
  {
   "cell_type": "code",
   "execution_count": 34,
   "metadata": {},
   "outputs": [],
   "source": [
    "# Convert labels to a simplified binary classification\n",
    "#label_map = {\n",
    "   # 1: 1, 0: 0\n",
    "#}\n",
    "#df[\"binary_label\"] = df[\"real\"].map(label_map)"
   ]
  },
  {
   "cell_type": "code",
   "execution_count": 35,
   "metadata": {},
   "outputs": [
    {
     "name": "stdout",
     "output_type": "stream",
     "text": [
      "\n",
      "Cleaned Dataset Shape: (44657, 5)\n"
     ]
    },
    {
     "data": {
      "text/html": [
       "<div>\n",
       "<style scoped>\n",
       "    .dataframe tbody tr th:only-of-type {\n",
       "        vertical-align: middle;\n",
       "    }\n",
       "\n",
       "    .dataframe tbody tr th {\n",
       "        vertical-align: top;\n",
       "    }\n",
       "\n",
       "    .dataframe thead th {\n",
       "        text-align: right;\n",
       "    }\n",
       "</style>\n",
       "<table border=\"1\" class=\"dataframe\">\n",
       "  <thead>\n",
       "    <tr style=\"text-align: right;\">\n",
       "      <th></th>\n",
       "      <th>title</th>\n",
       "      <th>text</th>\n",
       "      <th>subject</th>\n",
       "      <th>date</th>\n",
       "      <th>real</th>\n",
       "    </tr>\n",
       "  </thead>\n",
       "  <tbody>\n",
       "    <tr>\n",
       "      <th>1</th>\n",
       "      <td>Donald Trump Sends Out Embarrassing New Yearâ...</td>\n",
       "      <td>Donald Trump just couldn t wish all Americans ...</td>\n",
       "      <td>News</td>\n",
       "      <td>12/31/2017</td>\n",
       "      <td>0</td>\n",
       "    </tr>\n",
       "    <tr>\n",
       "      <th>2</th>\n",
       "      <td>Drunk Bragging Trump Staffer Started Russian ...</td>\n",
       "      <td>House Intelligence Committee Chairman Devin Nu...</td>\n",
       "      <td>News</td>\n",
       "      <td>12/31/2017</td>\n",
       "      <td>0</td>\n",
       "    </tr>\n",
       "    <tr>\n",
       "      <th>3</th>\n",
       "      <td>Sheriff David Clarke Becomes An Internet Joke...</td>\n",
       "      <td>On Friday, it was revealed that former Milwauk...</td>\n",
       "      <td>News</td>\n",
       "      <td>12/30/2017</td>\n",
       "      <td>0</td>\n",
       "    </tr>\n",
       "    <tr>\n",
       "      <th>4</th>\n",
       "      <td>Trump Is So Obsessed He Even Has Obamaâ€™s Na...</td>\n",
       "      <td>On Christmas day, Donald Trump announced that ...</td>\n",
       "      <td>News</td>\n",
       "      <td>12/29/2017</td>\n",
       "      <td>0</td>\n",
       "    </tr>\n",
       "    <tr>\n",
       "      <th>5</th>\n",
       "      <td>Pope Francis Just Called Out Donald Trump Dur...</td>\n",
       "      <td>Pope Francis used his annual Christmas Day mes...</td>\n",
       "      <td>News</td>\n",
       "      <td>12/25/2017</td>\n",
       "      <td>0</td>\n",
       "    </tr>\n",
       "  </tbody>\n",
       "</table>\n",
       "</div>"
      ],
      "text/plain": [
       "                                               title                                               text subject        date real\n",
       "1   Donald Trump Sends Out Embarrassing New Yearâ...  Donald Trump just couldn t wish all Americans ...    News  12/31/2017    0\n",
       "2   Drunk Bragging Trump Staffer Started Russian ...  House Intelligence Committee Chairman Devin Nu...    News  12/31/2017    0\n",
       "3   Sheriff David Clarke Becomes An Internet Joke...  On Friday, it was revealed that former Milwauk...    News  12/30/2017    0\n",
       "4   Trump Is So Obsessed He Even Has Obamaâ€™s Na...  On Christmas day, Donald Trump announced that ...    News  12/29/2017    0\n",
       "5   Pope Francis Just Called Out Donald Trump Dur...  Pope Francis used his annual Christmas Day mes...    News  12/25/2017    0"
      ]
     },
     "execution_count": 35,
     "metadata": {},
     "output_type": "execute_result"
    }
   ],
   "source": [
    "# Drop unnecessary columns (id is not useful for ML)\n",
    "#df.drop(columns=[\"title\"], inplace=True)\n",
    "\n",
    "# Remove duplicates\n",
    "df.drop_duplicates(inplace=True)\n",
    "\n",
    "# Summary of the cleaned dataset\n",
    "print(\"\\nCleaned Dataset Shape:\", df.shape)\n",
    "df.head()"
   ]
  },
  {
   "cell_type": "code",
   "execution_count": 36,
   "metadata": {},
   "outputs": [
    {
     "name": "stdout",
     "output_type": "stream",
     "text": [
      "\n",
      "Cleaned data saved as data_cleaned.csv\n"
     ]
    }
   ],
   "source": [
    "# Save cleaned dataset\n",
    "df.to_csv(\"data_cleaned.csv\", index=False)\n",
    "print(\"\\nCleaned data saved as data_cleaned.csv\")"
   ]
  },
  {
   "cell_type": "code",
   "execution_count": 37,
   "metadata": {},
   "outputs": [
    {
     "data": {
      "image/png": "[encoded data removed]",
      "text/plain": [
       "<Figure size 600x400 with 1 Axes>"
      ]
     },
     "metadata": {},
     "output_type": "display_data"
    }
   ],
   "source": [
    "# Quick visualization of label distribution\n",
    "plt.figure(figsize=(6, 4))\n",
    "sns.countplot(x=df['real'])\n",
    "plt.title(\"Distribution of Fake vs Real News\")\n",
    "plt.xticks(ticks=[0, 1], labels=[\"Fake\", \"Real\"])\n",
    "plt.xlabel(\"Real\")\n",
    "plt.ylabel(\"Count\")\n",
    "plt.show()"
   ]
  },
  {
   "cell_type": "code",
   "execution_count": null,
   "metadata": {},
   "outputs": [],
   "source": []
  }
 ],
 "metadata": {
  "kernelspec": {
   "display_name": "Python 3 (ipykernel)",
   "language": "python",
   "name": "python3"
  },
  "language_info": {
   "codemirror_mode": {
    "name": "ipython",
    "version": 3
   },
   "file_extension": ".py",
   "mimetype": "text/x-python",
   "name": "python",
   "nbconvert_exporter": "python",
   "pygments_lexer": "ipython3",
   "version": "3.10.14"
  }
 },
 "nbformat": 4,
 "nbformat_minor": 4
}
